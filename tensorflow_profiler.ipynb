{
  "cells": [
    {
      "cell_type": "markdown",
      "metadata": {
        "id": "1"
      },
      "source": [
        "# XProf Tensorboard Plugin Tutorials\n",
        "## Lab: Xprof End-to-end Tutorial\n",
        "\n",
        "Author: TBD\n",
        "\n",
        "Last updated: 02/23/2023\n",
        "\n",
        "Goal: In this lab, you will learn how to enable xprof in your colab and how to use xprof to optimize your ML models, with a primary focus on TPU models."
      ]
    },
    {
      "cell_type": "code",
      "execution_count": null,
      "metadata": {
        "id": "JbjgH1UwxnU5"
      },
      "outputs": [],
      "source": [
        "import jax.numpy as jnp\n",
        "from jax import grad, jit, vmap\n",
        "from jax import random"
      ]
    },
    {
      "cell_type": "code",
      "execution_count": null,
      "metadata": {
        "id": "2prWUE6yyoPH"
      },
      "outputs": [],
      "source": [
        "# A helper function to randomly initialize weights and biases\n",
        "# for a dense neural network layer\n",
        "def random_layer_params(m, n, key, scale=1e-2):\n",
        "  w_key, b_key = random.split(key)\n",
        "  return scale * random.normal(w_key, (n, m)), scale * random.normal(b_key, (n,))\n",
        "\n",
        "# Initialize all layers for a fully-connected neural network with sizes \"sizes\"\n",
        "def init_network_params(sizes, key):\n",
        "  keys = random.split(key, len(sizes))\n",
        "  return [random_layer_params(m, n, k) for m, n, k in zip(sizes[:-1], sizes[1:], keys)]\n",
        "\n",
        "layer_sizes = [784, 512, 512, 10]\n",
        "step_size = 0.01\n",
        "num_epochs = 8\n",
        "batch_size = 128\n",
        "n_targets = 10\n",
        "params = init_network_params(layer_sizes, random.PRNGKey(0))"
      ]
    },
    {
      "cell_type": "code",
      "execution_count": null,
      "metadata": {
        "id": "jTCt1gW-yp-V"
      },
      "outputs": [],
      "source": [
        "from jax.scipy.special import logsumexp\n",
        "\n",
        "def relu(x):\n",
        "  return jnp.maximum(0, x)\n",
        "\n",
        "def predict(params, image):\n",
        "  # per-example predictions\n",
        "  activations = image\n",
        "  for w, b in params[:-1]:\n",
        "    outputs = jnp.dot(w, activations) + b\n",
        "    activations = relu(outputs)\n",
        "\n",
        "  final_w, final_b = params[-1]\n",
        "  logits = jnp.dot(final_w, activations) + final_b\n",
        "  return logits - logsumexp(logits)"
      ]
    },
    {
      "cell_type": "code",
      "execution_count": null,
      "metadata": {
        "id": "OY8odbMXzUqN"
      },
      "outputs": [],
      "source": [
        "random_flattened_images = random.normal(random.PRNGKey(1), (10, 28 * 28))\n",
        "# Make a batched version of the `predict` function\n",
        "batched_predict = vmap(predict, in_axes=(None, 0))\n",
        "\n",
        "# `batched_predict` has the same call signature as `predict`\n",
        "batched_preds = batched_predict(params, random_flattened_images)\n",
        "print(batched_preds.shape)"
      ]
    },
    {
      "cell_type": "code",
      "execution_count": null,
      "metadata": {
        "id": "mywqic4Jy80p"
      },
      "outputs": [],
      "source": [
        "def one_hot(x, k, dtype=jnp.float32):\n",
        "  \"\"\"Create a one-hot encoding of x of size k.\"\"\"\n",
        "  return jnp.array(x[:, None] == jnp.arange(k), dtype)\n",
        "\n",
        "def accuracy(params, images, targets):\n",
        "  target_class = jnp.argmax(targets, axis=1)\n",
        "  predicted_class = jnp.argmax(batched_predict(params, images), axis=1)\n",
        "  return jnp.mean(predicted_class == target_class)\n",
        "\n",
        "def loss(params, images, targets):\n",
        "  preds = batched_predict(params, images)\n",
        "  return -jnp.mean(preds * targets)\n",
        "\n",
        "@jit\n",
        "def update(params, x, y):\n",
        "  grads = grad(loss)(params, x, y)\n",
        "  return [(w - step_size * dw, b - step_size * db)\n",
        "          for (w, b), (dw, db) in zip(params, grads)]"
      ]
    },
    {
      "cell_type": "code",
      "execution_count": null,
      "metadata": {
        "id": "e7niEEdvztVE"
      },
      "outputs": [],
      "source": [
        "!pip install torch torchvision"
      ]
    },
    {
      "cell_type": "code",
      "execution_count": null,
      "metadata": {
        "id": "JCDyjGbEzzi-"
      },
      "outputs": [],
      "source": [
        "import numpy as np\n",
        "from jax.tree_util import tree_map\n",
        "import torch\n",
        "from torch.utils import data\n",
        "from torchvision.datasets import MNIST\n",
        "\n",
        "def numpy_collate(batch):\n",
        "  return tree_map(np.asarray, data.default_collate(batch))\n",
        "\n",
        "class NumpyLoader(data.DataLoader):\n",
        "  def __init__(self, dataset, batch_size=1,\n",
        "                shuffle=False, sampler=None,\n",
        "                batch_sampler=None, num_workers=0,\n",
        "                pin_memory=False, drop_last=False,\n",
        "                timeout=0, worker_init_fn=None):\n",
        "    super(self.__class__, self).__init__(dataset,\n",
        "        batch_size=batch_size,\n",
        "        shuffle=shuffle,\n",
        "        sampler=sampler,\n",
        "        batch_sampler=batch_sampler,\n",
        "        num_workers=num_workers,\n",
        "        collate_fn=numpy_collate,\n",
        "        pin_memory=pin_memory,\n",
        "        drop_last=drop_last,\n",
        "        timeout=timeout,\n",
        "        worker_init_fn=worker_init_fn)\n",
        "\n",
        "class FlattenAndCast(object):\n",
        "  def __call__(self, pic):\n",
        "    return np.ravel(np.array(pic, dtype=jnp.float32))"
      ]
    },
    {
      "cell_type": "code",
      "execution_count": null,
      "metadata": {
        "id": "SKGLgp8Iz2xf"
      },
      "outputs": [],
      "source": [
        "# Define our dataset, using torch datasets\n",
        "mnist_dataset = MNIST('/tmp/mnist/', download=True, transform=FlattenAndCast())\n",
        "training_generator = NumpyLoader(mnist_dataset, batch_size=batch_size, num_workers=0)"
      ]
    },
    {
      "cell_type": "code",
      "execution_count": null,
      "metadata": {
        "id": "xIsTJnwJ0DZr"
      },
      "outputs": [],
      "source": [
        "# Get the full train dataset (for checking accuracy while training)\n",
        "train_images = np.array(mnist_dataset.train_data).reshape(len(mnist_dataset.train_data), -1)\n",
        "train_labels = one_hot(np.array(mnist_dataset.train_labels), n_targets)\n",
        "\n",
        "# Get full test dataset\n",
        "mnist_dataset_test = MNIST('/tmp/mnist/', download=True, train=False)\n",
        "test_images = jnp.array(mnist_dataset_test.test_data.numpy().reshape(len(mnist_dataset_test.test_data), -1), dtype=jnp.float32)\n",
        "test_labels = one_hot(np.array(mnist_dataset_test.test_labels), n_targets)"
      ]
    },
    {
      "cell_type": "code",
      "execution_count": null,
      "metadata": {
        "id": "f3r4B2a-0NoW"
      },
      "outputs": [],
      "source": [
        "import time\n",
        "import jax\n",
        "\n",
        "jax.profiler.start_trace(\"/tmp/tensorboard\")\n",
        "\n",
        "num_epochs = 1\n",
        "for epoch in range(num_epochs):\n",
        "  start_time = time.time()\n",
        "  for x, y in training_generator:\n",
        "    y = one_hot(y, n_targets)\n",
        "    params = update(params, x, y)\n",
        "  epoch_time = time.time() - start_time\n",
        "\n",
        "  train_acc = accuracy(params, train_images, train_labels)\n",
        "  test_acc = accuracy(params, test_images, test_labels)\n",
        "  print(\"Epoch {} in {:0.2f} sec\".format(epoch, epoch_time))\n",
        "  print(\"Training set accuracy {}\".format(train_acc))\n",
        "  print(\"Test set accuracy {}\".format(test_acc))\n",
        "\n",
        "jax.profiler.stop_trace()"
      ]
    },
    {
      "cell_type": "code",
      "execution_count": null,
      "metadata": {
        "id": "4RM3k8it0PMP"
      },
      "outputs": [],
      "source": [
        "!pip install tensorflow tensorboard-plugin-profile"
      ]
    },
    {
      "cell_type": "code",
      "execution_count": null,
      "metadata": {
        "id": "WDJZ3bdb0Xut"
      },
      "outputs": [],
      "source": [
        "# Load the TensorBoard notebook extension.\n",
        "%load_ext tensorboard"
      ]
    },
    {
      "cell_type": "code",
      "execution_count": null,
      "metadata": {
        "id": "jwmwtBGM0bqO"
      },
      "outputs": [],
      "source": [
        "%tensorboard --logdir=/tmp/tensorboard"
      ]
    }
  ],
  "metadata": {
    "colab": {
      "last_runtime": {
        "build_target": "//learning/grp/tools/ml_python:ml_notebook",
        "kind": "private"
      },
      "name": "pax101 - end-to-end tutorial",
      "private_outputs": true,
      "provenance": [
        {
          "file_id": "/piper/depot/google3/learning/multipod/pax/colab/pax101_e2e_tutorial.ipynb",
          "timestamp": 1693238431278
        },
        {
          "file_id": "/piper/depot/google3/learning/multipod/pax/colab/pax101_e2e_tutorial.ipynb",
          "timestamp": 1685236933530
        },
        {
          "file_id": "/piper/depot/google3/learning/multipod/pax/colab/pax101_e2e_tutorial.ipynb",
          "timestamp": 1677131334160
        },
        {
          "file_id": "/piper/depot/google3/learning/multipod/pax/colab/pax101_e2e_tutorial.ipynb",
          "timestamp": 1667181869434
        },
        {
          "file_id": "/piper/depot/google3/learning/multipod/pax/colab/pax101_e2e_tutorial.ipynb",
          "timestamp": 1663960516259
        },
        {
          "file_id": "/piper/depot/google3/learning/multipod/pax/colab/pax101_e2e_tutorial.ipynb",
          "timestamp": 1663858294448
        },
        {
          "file_id": "/piper/depot/google3/learning/multipod/pax/colab/pax101_e2e_tutorial.ipynb",
          "timestamp": 1660666440122
        },
        {
          "file_id": "/piper/depot/google3/learning/multipod/pax/colab/pax101_e2e_tutorial.ipynb?cl=452092215",
          "timestamp": 1654522386463
        },
        {
          "file_id": "/piper/depot/google3/learning/multipod/pax/colab/pax101_e2e_tutorial.ipynb",
          "timestamp": 1653666199812
        },
        {
          "file_id": "/piper/depot/google3/learning/multipod/pax/colab/pax101_e2e_tutorial.ipynb",
          "timestamp": 1652750254201
        },
        {
          "file_id": "/piper/depot/google3/learning/multipod/pax/colab/bf_jax_tutorial.ipynb?workspaceId=shafey:fiddle_colab1::citc",
          "timestamp": 1649876705806
        },
        {
          "file_id": "/piper/depot/google3/learning/multipod/pax/colab/bf_jax_tutorial.ipynb?workspaceId=shafey:fiddle_colab1::citc",
          "timestamp": 1649876128293
        },
        {
          "file_id": "/piper/depot/google3/learning/multipod/pax/colab/bf_jax_tutorial.ipynb?workspaceId=shafey:jax_colab::citc",
          "timestamp": 1648868281098
        },
        {
          "file_id": "/piper/depot/google3/learning/multipod/pax/colab/bf_jax_tutorial.ipynb",
          "timestamp": 1648710135481
        },
        {
          "file_id": "/piper/depot/google3/learning/multipod/pax/colab/bf_jax_tutorial.ipynb?workspaceId=shafey:dcmig2::citc",
          "timestamp": 1648584541402
        },
        {
          "file_id": "/piper/depot/google3/learning/multipod/pax/colab/bf_jax_tutorial.ipynb?workspaceId=shafey:dcmig2::citc",
          "timestamp": 1648584368190
        },
        {
          "file_id": "/piper/depot/google3/learning/multipod/pax/colab/bf_jax_tutorial.ipynb?workspaceId=shafey:dcmig2::citc",
          "timestamp": 1648578573445
        },
        {
          "file_id": "/piper/depot/google3/learning/multipod/pax/colab/bf_jax_tutorial.ipynb",
          "timestamp": 1648576998373
        },
        {
          "file_id": "/piper/depot/google3/learning/multipod/pax/colab/bf_jax_tutorial.ipynb?workspaceId=shafey:jax_flaxmig2::citc",
          "timestamp": 1646419216754
        },
        {
          "file_id": "/piper/depot/google3/learning/multipod/pax/colab/bf_jax_tutorial.ipynb?workspaceId=shafey:jax_notheta2::citc",
          "timestamp": 1644632589605
        },
        {
          "file_id": "/piper/depot/google3/learning/multipod/pax/colab/bf_jax_tutorial.ipynb?workspaceId=shafey:jax_notheta2::citc",
          "timestamp": 1644632375053
        },
        {
          "file_id": "/piper/depot/google3/learning/multipod/pax/colab/bf_jax_tutorial.ipynb?workspaceId=shafey:jax_notheta2::citc",
          "timestamp": 1644631264024
        },
        {
          "file_id": "/piper/depot/google3/learning/multipod/pax/colab/bf_jax_tutorial.ipynb?workspaceId=shafey:jax_fnotheta2::citc",
          "timestamp": 1644566467426
        },
        {
          "file_id": "/piper/depot/google3/learning/multipod/pax/colab/bf_jax_tutorial.ipynb?workspaceId=shafey:jax_fnotheta2::citc",
          "timestamp": 1644565356709
        },
        {
          "file_id": "/piper/depot/google3/learning/multipod/pax/colab/bf_jax_tutorial.ipynb?workspaceId=shafey:jax_fnotheta3::citc",
          "timestamp": 1644559892290
        },
        {
          "file_id": "/piper/depot/google3/learning/multipod/pax/colab/bf_jax_tutorial.ipynb?workspaceId=shafey:jax_fnotheta2::citc",
          "timestamp": 1644555390531
        },
        {
          "file_id": "/piper/depot/google3/learning/multipod/pax/colab/bf_jax_tutorial.ipynb?workspaceId=shafey:jax_fnotheta3::citc",
          "timestamp": 1644542840004
        },
        {
          "file_id": "/piper/depot/google3/learning/multipod/pax/colab/bf_jax_tutorial.ipynb?workspaceId=shafey:jax_fnotheta3::citc",
          "timestamp": 1644542170820
        },
        {
          "file_id": "/piper/depot/google3/learning/multipod/pax/colab/bf_jax_tutorial.ipynb",
          "timestamp": 1644541561334
        },
        {
          "file_id": "/piper/depot/google3/learning/multipod/pax/colab/bf_jax_tutorial.ipynb",
          "timestamp": 1643783853830
        },
        {
          "file_id": "1PgwGa0YzvfVynHMy5veefNchsgtLqRRq",
          "timestamp": 1636932679057
        },
        {
          "file_id": "/piper/depot/google3/learning/multipod/pax/colab/bf_jax_tutorial.ipynb?workspaceId=yonghui:yh_jax_05::citc",
          "timestamp": 1636932161770
        },
        {
          "file_id": "/piper/depot/google3/learning/multipod/pax/colab/bf_jax_tutorial.ipynb",
          "timestamp": 1636910611795
        },
        {
          "file_id": "/piper/depot/google3/experimental/users/johans/modeling/BFJaxTranslator.ipynb?workspaceId=johans:research::citc",
          "timestamp": 1635807450264
        },
        {
          "file_id": "/piper/depot/google3/experimental/users/yonghui/babelfish/BFJaxTransFormer.ipynb",
          "timestamp": 1635293695978
        },
        {
          "file_id": "/piper/depot/google3/experimental/users/johans/modeling/BFTransFormer.ipynb?cl=403184957",
          "timestamp": 1634400802730
        },
        {
          "file_id": "/piper/depot/google3/experimental/users/johans/modeling/BFTransFormer.ipynb?workspaceId=johans:research::citc",
          "timestamp": 1634160588266
        },
        {
          "file_id": "11OZYfagMHeRct2XwBGrZih5kXRLTUXYW",
          "timestamp": 1633730906752
        }
      ],
      "toc_visible": true
    },
    "kernelspec": {
      "display_name": "Python 3",
      "name": "python3"
    },
    "language_info": {
      "name": "python"
    }
  },
  "nbformat": 4,
  "nbformat_minor": 0
}
